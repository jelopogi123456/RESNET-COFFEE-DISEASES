{
 "cells": [
  {
   "cell_type": "code",
   "execution_count": 3,
   "id": "2f3a2891",
   "metadata": {},
   "outputs": [
    {
     "name": "stdout",
     "output_type": "stream",
     "text": [
      "Requirement already satisfied: split_folders in c:\\users\\mark3\\anaconda3\\envs\\tensorflow\\lib\\site-packages (0.5.1)\n"
     ]
    }
   ],
   "source": [
    "!pip install split_folders\n"
   ]
  },
  {
   "cell_type": "code",
   "execution_count": 6,
   "id": "326c4cf3",
   "metadata": {},
   "outputs": [],
   "source": [
    "import splitfolders\n"
   ]
  },
  {
   "cell_type": "code",
   "execution_count": 9,
   "id": "9f6e9099",
   "metadata": {},
   "outputs": [],
   "source": [
    "import splitfolders\n",
    "\n",
    "training_folder = \"C:\\\\Users\\\\MARK3\\\\Downloads\\\\Omdena Ethiopia Coffee Diseases\\\\training\"\n",
    "output = \"C:\\\\Users\\\\MARK3\\\\Downloads\\\\Omdena Ethiopia Coffee Diseases\\\\processed_data\"\n",
    "splitfolders.ratio(training_folder, output , seed = 42 ,ratio = (.6,.2,.2))"
   ]
  },
  {
   "cell_type": "code",
   "execution_count": null,
   "id": "98fe1b95",
   "metadata": {},
   "outputs": [],
   "source": []
  }
 ],
 "metadata": {
  "kernelspec": {
   "display_name": "Python 3 (ipykernel)",
   "language": "python",
   "name": "python3"
  },
  "language_info": {
   "codemirror_mode": {
    "name": "ipython",
    "version": 3
   },
   "file_extension": ".py",
   "mimetype": "text/x-python",
   "name": "python",
   "nbconvert_exporter": "python",
   "pygments_lexer": "ipython3",
   "version": "3.10.9"
  }
 },
 "nbformat": 4,
 "nbformat_minor": 5
}
